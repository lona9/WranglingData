{
 "cells": [
  {
   "cell_type": "markdown",
   "metadata": {},
   "source": [
    "# Project: Wrangle and Analyze Data\n",
    "\n",
    "For this project, we gathered, assessed, cleaned, analyzed and visualized data from the tweet archive of Twitter account @dog_rates (WeRateDogs). The data used for this project will come from different sources, mainly the Twitter API which built an original archive (prepared by the Udacity team), a prediction table which came from the Udacity team as well, which gave us information for dog breed predictions based on a neural network, and additional information gathered from the Twitter API directly.\n",
    "\n",
    "The libraries used to wrangle this data were: requests, pandas, tweepy, json, datetime, time, re and matplotlib.pyplot.\n",
    "\n",
    "The files were gathered manually and programatically, and were all opened as three different dataframes to start. After assessing the data both visually and programatically, we found several problems related to formatting, validity and accuracy of the data in the original archive table, which had extracted a lot of information from the text of each tweet, and needed to be cleaned up.\n",
    "\n",
    "We found the following issues with the data at hand:\n",
    "\n",
    "### Quality\n",
    "- `df_archive` table: some tweets are retweets\n",
    "- `df_archive` table: `timestamp` has an incorrect type\n",
    "- `df_archive` table: NaN values in `expanded_urls`\n",
    "- `df_predictions` table: prediction columns have an inconsistent formatting, and underscores instead of spacing\n",
    "- `df_archive` table: some reply tweets are invalid\n",
    "- `df_archive` table: not all `names` are correct\n",
    "- `df_archive` table: some ratings have denominators over than 10 and are not ratings. \n",
    "- number of rows for all three tables don't match each other\n",
    "\n",
    "\n",
    "### Tidiness\n",
    "- `df_archive` table: there's 4 different columns for the same variable of dog stage.\n",
    "- `df_archive` and `df_additional`: lots of meaningless columns that make it hard to read\n",
    "- there's three tables when there should be two: one table with info from `df_archive` and `df_additional`, and `df_predictions`\n",
    "\n",
    "As noted before, from the quality issues, several of these were due to incorrect extraction of information from the text values, so we fixed those through new extraction, made easier by regular expressions. Other cleaning acts included dropping  incomplete rows, changing datatypes and replacing inconsistent formatting.\n",
    "For tidiness, we built a master archive which contained relevant information to the tweets, created by merging the original archive and the additional data from the API, and left the prediction tables on its own. We also dropped columns which didn't provide any valuable information, and we consolidated the information of four columns for occurence of dog stage mention into just 1 column.\n",
    "The clean and tidy dataframes were saved as new .csv files to be used again in the future.\n",
    "\n",
    "This data was later analyzed and a report was written with the insights of this analysis."
   ]
  }
 ],
 "metadata": {
  "kernelspec": {
   "display_name": "Python 3",
   "language": "python",
   "name": "python3"
  },
  "language_info": {
   "codemirror_mode": {
    "name": "ipython",
    "version": 3
   },
   "file_extension": ".py",
   "mimetype": "text/x-python",
   "name": "python",
   "nbconvert_exporter": "python",
   "pygments_lexer": "ipython3",
   "version": "3.8.5"
  }
 },
 "nbformat": 4,
 "nbformat_minor": 4
}
